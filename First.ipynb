{
 "cells": [
  {
   "cell_type": "code",
   "execution_count": 1,
   "metadata": {
    "collapsed": true
   },
   "outputs": [],
   "source": [
    "from layers import *\n",
    "from lasagne.layers import *\n",
    "\n",
    "from lasagne.nonlinearities import LeakyRectify\n",
    "\n",
    "from collections import OrderedDict\n",
    "\n",
    "import theano"
   ]
  },
  {
   "cell_type": "code",
   "execution_count": 2,
   "metadata": {
    "collapsed": true
   },
   "outputs": [],
   "source": [
    "def buildGenerator(n_chan=3, filter_size=(128, 128)):\n",
    "    net = OrderedDict()\n",
    "    \n",
    "    net[\"inp\"] = InputLayer(tuple([None, n_chan]) + filter_size)\n",
    "    \n",
    "    net[\"conv1\"] = Conv2DLayer(net[\"inp\"], 32, 7, nonlinearity=LeakyRectify(0.2))\n",
    "    \n",
    "    net[\"conv2\"] = Conv2DLayer(net[\"conv1\"], 64, 5, stride=2, pad=\"same\")\n",
    "    net[\"norm1\"] = InstanceNorm(net[\"conv2\"])\n",
    "    net[\"lref1\"] = NonlinearityLayer(net[\"norm1\"], nonlinearity=LeakyRectify(0.2))\n",
    "    \n",
    "    net[\"conv3\"] = Conv2DLayer(net[\"lref1\"], 64, 5, stride=2, pad=\"same\")\n",
    "    net[\"norm2\"] = InstanceNorm(net[\"conv3\"])\n",
    "    net[\"lref2\"] = NonlinearityLayer(net[\"norm2\"], nonlinearity=LeakyRectify(0.2))\n",
    "    \n",
    "    net[\"resid1\"] = ResidualBlock(net[\"lref2\"], 3)\n",
    "    for i in range(8):\n",
    "        net[\"resid%d\"%(i+2)] = ResidualBlock(net[\"resid%d\"%(i+1)], 3)\n",
    "        \n",
    "    return net"
   ]
  },
  {
   "cell_type": "code",
   "execution_count": 3,
   "metadata": {
    "collapsed": true
   },
   "outputs": [],
   "source": [
    "net = buildGenerator()"
   ]
  },
  {
   "cell_type": "code",
   "execution_count": 4,
   "metadata": {
    "collapsed": true
   },
   "outputs": [],
   "source": [
    "out = get_output(net[\"resid9\"])\n",
    "\n",
    "generate = theano.function([net[\"inp\"].input_var], out)"
   ]
  },
  {
   "cell_type": "code",
   "execution_count": null,
   "metadata": {
    "collapsed": true
   },
   "outputs": [],
   "source": [
    "import numpy as np\n",
    "\n",
    "pic = generate(np.random.normal(size=[1, 3, 128, 128]))"
   ]
  }
 ],
 "metadata": {
  "kernelspec": {
   "display_name": "Python 2",
   "language": "python",
   "name": "python2"
  },
  "language_info": {
   "codemirror_mode": {
    "name": "ipython",
    "version": 2
   },
   "file_extension": ".py",
   "mimetype": "text/x-python",
   "name": "python",
   "nbconvert_exporter": "python",
   "pygments_lexer": "ipython2",
   "version": "2.7.14"
  }
 },
 "nbformat": 4,
 "nbformat_minor": 2
}
