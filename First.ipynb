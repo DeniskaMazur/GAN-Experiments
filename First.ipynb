{
 "cells": [
  {
   "cell_type": "code",
   "execution_count": 1,
   "metadata": {
    "collapsed": true
   },
   "outputs": [],
   "source": [
    "from layers import *\n",
    "from lasagne.layers import *\n",
    "import lasagne\n",
    "\n",
    "from lasagne.nonlinearities import LeakyRectify\n",
    "\n",
    "from collections import OrderedDict\n",
    "\n",
    "import theano\n",
    "import theano.tensor as T\n",
    "\n",
    "from nets import ResGenerator, Discriminator\n",
    "\n",
    "from theano.tensor.shared_randomstreams import RandomStreams\n",
    "srng = RandomStreams(seed=234)"
   ]
  },
  {
   "cell_type": "markdown",
   "metadata": {},
   "source": [
    "## Define da Nets!"
   ]
  },
  {
   "cell_type": "code",
   "execution_count": 2,
   "metadata": {
    "collapsed": true
   },
   "outputs": [],
   "source": [
    "# a & b\n",
    "realA = T.tensor4(\"Real A input\")\n",
    "realB = T.tensor4(\"Real B input\")\n",
    "\n",
    "# G(a) -> b_hat & F(b) -> a_hat\n",
    "genA2B = ResGenerator(filter_size=(64, 64), input_var=realA)\n",
    "genB2A = ResGenerator(filter_size=(64, 64), input_var=realB)\n",
    "\n",
    "# D_a(F(b)) & D_b(G(a))\n",
    "discA = Discriminator(genB2A, wasserstein=True, real_inp_var=realA)\n",
    "discB = Discriminator(genA2B, wasserstein=True, real_inp_var=realB)\n",
    "\n",
    "# F(G(a)) -> a_cyc & G(F(b)) -> b_cyc\n",
    "cycleA = genB2A.get_output(genA2B.output_var)\n",
    "cycleB = genA2B.get_output(genB2A.output_var)"
   ]
  },
  {
   "cell_type": "markdown",
   "metadata": {},
   "source": [
    "## Losses"
   ]
  },
  {
   "cell_type": "code",
   "execution_count": 3,
   "metadata": {
    "collapsed": true
   },
   "outputs": [],
   "source": [
    "# TODO: turn into function\n",
    "\n",
    "class WGANLosses:\n",
    "    def __init__(self, gen, disc, lambd=10):\n",
    "        self.epsilon = srng.uniform([1]) # low=0, high=1\n",
    "        \n",
    "        x_hat = self.epsilon * disc.real_inp_var + (1 - self.epsilon) * gen.output_var\n",
    "        \n",
    "        x_hat_score = get_output(gen.layers[\"out\"], x_hat).mean()\n",
    "        x_hat_grad = T.grad(x_hat_score, x_hat)[0]\n",
    "        \n",
    "        wgan_loss = (disc.real_out.mean() - disc.fake_out.mean())\n",
    "        gradient_penalty = ((T.sqrt(T.sum(x_hat_grad**2)) - 0.01)**2).mean()\n",
    "\n",
    "        self.disc_loss = -wgan_loss + lambd * gradient_penalty\n",
    "        self.gen_loss = -disc.fake_out.mean()"
   ]
  },
  {
   "cell_type": "code",
   "execution_count": 4,
   "metadata": {
    "collapsed": true
   },
   "outputs": [],
   "source": [
    "# Hyperparams\n",
    "adam = {\"learning_rate\" : 1e-4, \"beta1\" : 0.5, \"beta2\" : 0.9}\n",
    "lambd = 10"
   ]
  },
  {
   "cell_type": "code",
   "execution_count": 28,
   "metadata": {
    "collapsed": true
   },
   "outputs": [],
   "source": [
    "cycle_loss = (T.abs_(realA - cycleA) + T.abs_(realB - cycleB)).mean()\n",
    "\n",
    "a_loss = WGANLosses(genA2B, discB)\n",
    "b_loss = WGANLosses(genB2A, discA)\n",
    "\n",
    "gen_comb_loss = a_loss.gen_loss + b_loss.gen_loss + cycle_loss\n",
    "disc_comb_loss = a_loss.disc_loss + b_loss.disc_loss\n",
    "\n",
    "gen_updates = lasagne.updates.adam(gen_comb_loss, genA2B.params + genB2A.params)\n",
    "disc_updates = lasagne.updates.adam(disc_comb_loss, discA.params + discB.params)\n",
    "\n",
    "trainGen = theano.function([realA, realB], gen_comb_loss, updates=gen_updates)\n",
    "trainDisc = theano.function()"
   ]
  },
  {
   "cell_type": "code",
   "execution_count": 29,
   "metadata": {},
   "outputs": [
    {
     "data": {
      "text/plain": [
       "{12: 9,\n",
       " 17: 9,\n",
       " 18: 9,\n",
       " 20: 9,\n",
       " 22: u'cycle_loss = (T.abs_(realA - cycleA) + T.abs_(realB - cycleB)).mean()\\n\\na_loss = WGANLosses(genA2B, discB)\\nb_loss = WGANLosses(genB2A, discA)\\n\\ngen_comb_loss = a_loss.gen_loss + b_loss.gen_loss + cycle_loss\\ndisc_comb_loss = a_loss.disc_loss + b_loss.disc_loss\\n\\ngen_updates = lasagne.updates.adam(gen_comb_loss, genA2B.params + genB2A.params)\\ndisc_updates = lasagne.updates.adam(disc_comb_loss, discA.params + discB.params)\\n\\ntrainGen = theano.function([realA, realB], gen_comb_loss, updates=gen_updates)'}"
      ]
     },
     "execution_count": 29,
     "metadata": {},
     "output_type": "execute_result"
    }
   ],
   "source": []
  }
 ],
 "metadata": {
  "kernelspec": {
   "display_name": "Python 2",
   "language": "python",
   "name": "python2"
  },
  "language_info": {
   "codemirror_mode": {
    "name": "ipython",
    "version": 2
   },
   "file_extension": ".py",
   "mimetype": "text/x-python",
   "name": "python",
   "nbconvert_exporter": "python",
   "pygments_lexer": "ipython2",
   "version": "2.7.14"
  }
 },
 "nbformat": 4,
 "nbformat_minor": 2
}
