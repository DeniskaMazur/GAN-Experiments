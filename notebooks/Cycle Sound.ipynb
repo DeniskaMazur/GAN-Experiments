{
 "cells": [
  {
   "cell_type": "code",
   "execution_count": 1,
   "metadata": {
    "collapsed": true
   },
   "outputs": [],
   "source": [
    "import sys\n",
    "import os\n",
    "from IPython.display import Audio, display\n",
    "\n",
    "sys.path.append(\"..\")"
   ]
  },
  {
   "cell_type": "code",
   "execution_count": null,
   "metadata": {
    "collapsed": true
   },
   "outputs": [],
   "source": [
    "Audio(\"../datasets/vcc2016_training/SF1/100001.wav\")"
   ]
  },
  {
   "cell_type": "code",
   "execution_count": null,
   "metadata": {
    "collapsed": true
   },
   "outputs": [],
   "source": [
    "import librosa\n",
    "import numpy as np\n",
    "\n",
    "def read_audio_spectum(filename, n_fft=24):\n",
    "    x, fs = librosa.load(filename)\n",
    "    S = librosa.stft(x, n_fft)\n",
    "    p = np.angle(S)\n",
    "    S = np.log1p(np.abs(S[:, :430]))\n",
    "    return S, fs\n",
    "\n",
    "def load_data(path):\n",
    "    data = dict()\n",
    "    \n",
    "    for sub_dir in os.listdir(path):\n",
    "        data[sub_dir] = list()\n",
    "        \n",
    "        for file in os.listdir(path + sub_dir):\n",
    "            x, fs = read_audio_spectum(path + sub_dir + \"/\" + file)\n",
    "            data[sub_dir].append(x)\n",
    "            \n",
    "    return data"
   ]
  },
  {
   "cell_type": "code",
   "execution_count": null,
   "metadata": {
    "collapsed": true
   },
   "outputs": [],
   "source": [
    "data = load_data(\"../datasets/vcc2016_training/\")"
   ]
  },
  {
   "cell_type": "code",
   "execution_count": 2,
   "metadata": {},
   "outputs": [],
   "source": [
    "from lib.zoo import Sound2SoundNet, Discriminator1D"
   ]
  },
  {
   "cell_type": "code",
   "execution_count": 6,
   "metadata": {},
   "outputs": [
    {
     "name": "stdout",
     "output_type": "stream",
     "text": [
      "CPU times: user 8.99 s, sys: 294 ms, total: 9.28 s\n",
      "Wall time: 9.32 s\n"
     ]
    }
   ],
   "source": [
    "%%time\n",
    "\n",
    "genA2B = Sound2SoundNet([None, 23, 100])\n",
    "genB2A = Sound2SoundNet([None, 23, 100])\n",
    "\n",
    "realA = genA2B.input_var\n",
    "realB = genB2A.input_var\n",
    "\n",
    "discA = Discriminator1D(genA2B, real_input_var=realA)\n",
    "discB = Discriminator1D(genB2A, real_input_var=realB)"
   ]
  },
  {
   "cell_type": "code",
   "execution_count": 8,
   "metadata": {},
   "outputs": [],
   "source": [
    "cost = T.abs_(realA - genB2A.output_var).mean()"
   ]
  },
  {
   "cell_type": "code",
   "execution_count": null,
   "metadata": {
    "collapsed": true
   },
   "outputs": [],
   "source": [
    "updates = lasagne.updates.adam(cost, genB2A.params)\n",
    "learn = theano.function([genB2A.input_var], cost, updates=updates)"
   ]
  }
 ],
 "metadata": {
  "kernelspec": {
   "display_name": "Python 2",
   "language": "python",
   "name": "python2"
  },
  "language_info": {
   "codemirror_mode": {
    "name": "ipython",
    "version": 2
   },
   "file_extension": ".py",
   "mimetype": "text/x-python",
   "name": "python",
   "nbconvert_exporter": "python",
   "pygments_lexer": "ipython2",
   "version": "2.7.14"
  }
 },
 "nbformat": 4,
 "nbformat_minor": 2
}
