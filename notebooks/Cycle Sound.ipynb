{
 "cells": [
  {
   "cell_type": "code",
   "execution_count": 2,
   "metadata": {
    "collapsed": true
   },
   "outputs": [],
   "source": [
    "import sys\n",
    "import os\n",
    "from IPython.display import Audio, display\n",
    "\n",
    "sys.path.append(\"..\")"
   ]
  },
  {
   "cell_type": "code",
   "execution_count": null,
   "metadata": {},
   "outputs": [],
   "source": [
    "Audio(\"../datasets/vcc2016_training/SF1/100001.wav\")"
   ]
  },
  {
   "cell_type": "code",
   "execution_count": null,
   "metadata": {
    "collapsed": true
   },
   "outputs": [],
   "source": [
    "import librosa\n",
    "import numpy as np\n",
    "\n",
    "def read_audio_spectum(filename, n_fft=24):\n",
    "    x, fs = librosa.load(filename)\n",
    "    S = librosa.stft(x, n_fft)\n",
    "    p = np.angle(S)\n",
    "    S = np.log1p(np.abs(S[:, :430]))\n",
    "    return S, fs\n",
    "\n",
    "def load_data(path):\n",
    "    data = dict()\n",
    "    \n",
    "    for sub_dir in os.listdir(path):\n",
    "        data[sub_dir] = list()\n",
    "        \n",
    "        for file in os.listdir(path + sub_dir):\n",
    "            x, fs = read_audio_spectum(path + sub_dir + \"/\" + file)\n",
    "            data[sub_dir].append(x)\n",
    "            \n",
    "    return data"
   ]
  },
  {
   "cell_type": "code",
   "execution_count": null,
   "metadata": {
    "collapsed": true
   },
   "outputs": [],
   "source": [
    "data = load_data(\"../datasets/vcc2016_training/\")"
   ]
  },
  {
   "cell_type": "code",
   "execution_count": 3,
   "metadata": {},
   "outputs": [],
   "source": [
    "from lib.zoo import Sound2SoundNet, Discriminator1D"
   ]
  },
  {
   "cell_type": "code",
   "execution_count": 4,
   "metadata": {},
   "outputs": [
    {
     "name": "stdout",
     "output_type": "stream",
     "text": [
      "Sound2SoundNet: building net\n",
      "Sound2SoundNet: compilling generate function\n",
      "Sound2SoundNet: building net\n",
      "Sound2SoundNet: compilling generate function\n",
      "CPU times: user 40min 44s, sys: 7.61 s, total: 40min 52s\n",
      "Wall time: 40min 38s\n"
     ]
    }
   ],
   "source": [
    "%%time\n",
    "\n",
    "genA2B = Sound2SoundNet(430, n_chan=13)\n",
    "genB2A = Sound2SoundNet(430, n_chan=13)\n",
    "\n",
    "discA = Discriminator1D(genB2A)\n",
    "discB = Discriminator1D(genA2B)"
   ]
  },
  {
   "cell_type": "code",
   "execution_count": null,
   "metadata": {},
   "outputs": [],
   "source": [
    "!cat ../lib/zoo/disc1d.py"
   ]
  }
 ],
 "metadata": {
  "kernelspec": {
   "display_name": "Python 2",
   "language": "python",
   "name": "python2"
  },
  "language_info": {
   "codemirror_mode": {
    "name": "ipython",
    "version": 2
   },
   "file_extension": ".py",
   "mimetype": "text/x-python",
   "name": "python",
   "nbconvert_exporter": "python",
   "pygments_lexer": "ipython2",
   "version": "2.7.13"
  }
 },
 "nbformat": 4,
 "nbformat_minor": 2
}
