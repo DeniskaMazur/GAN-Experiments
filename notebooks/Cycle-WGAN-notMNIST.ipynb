{
 "cells": [
  {
   "cell_type": "code",
   "execution_count": 1,
   "metadata": {},
   "outputs": [
    {
     "name": "stdout",
     "output_type": "stream",
     "text": [
      "env: THEANO_FLAGS=device=cuda0\n"
     ]
    }
   ],
   "source": [
    "%env THEANO_FLAGS=device=cuda0\n",
    "%matplotlib inline"
   ]
  },
  {
   "cell_type": "code",
   "execution_count": 2,
   "metadata": {
    "collapsed": true
   },
   "outputs": [],
   "source": [
    "import sys\n",
    "sys.path.append(\"..\")"
   ]
  },
  {
   "cell_type": "code",
   "execution_count": 3,
   "metadata": {
    "collapsed": true
   },
   "outputs": [],
   "source": [
    "from lib.util import pics2array\n",
    "import os\n",
    "import matplotlib.pyplot as plt\n",
    "import numpy as np\n",
    "\n",
    "DATA_PATH = \"/home/deniska/Projects/cycle/datasets/notMNIST_large/\"\n",
    "\n",
    "a_names = os.listdir(DATA_PATH + \"A/\")\n",
    "c_names = os.listdir(DATA_PATH + \"B/\")\n",
    "\n",
    "As = list()\n",
    "for name in a_names:\n",
    "    try:\n",
    "        As.append(pics2array(DATA_PATH + \"A/\", [name], im_size=(32, 32)))\n",
    "    except:\n",
    "        pass\n",
    "As = np.array(As)/255.\n",
    "\n",
    "Bs = list()\n",
    "for name in c_names:\n",
    "    try:\n",
    "        Bs.append(pics2array(DATA_PATH + \"B/\", [name], im_size=(32, 32)))\n",
    "    except:\n",
    "        pass\n",
    "Bs = np.array(Bs)/255."
   ]
  },
  {
   "cell_type": "code",
   "execution_count": 4,
   "metadata": {},
   "outputs": [
    {
     "name": "stderr",
     "output_type": "stream",
     "text": [
      "WARNING (theano.tensor.blas): Using NumPy C-API based implementation for BLAS functions.\n",
      "Can not use cuDNN on context None: cannot compile with cuDNN. We got this error:\n",
      "/tmp/try_flags_aPb28f.c:4:19: fatal error: cudnn.h: Нет такого файла или каталога\n",
      "compilation terminated.\n",
      "\n",
      "Mapped name None to device cuda0: GeForce GTX 1060 6GB (0000:01:00.0)\n"
     ]
    }
   ],
   "source": [
    "from lib.zoo import UnetGenerator, Discriminator\n",
    "from lasagne.layers import get_output\n",
    "\n",
    "# G(a) -> b_hat & F(b) -> a_hat\n",
    "genA2B = UnetGenerator(input_dim=(32, 32))\n",
    "genB2A = UnetGenerator(input_dim=(32, 32))\n",
    "\n",
    "# kind of a bodge\n",
    "realA = genA2B.input_var\n",
    "realB = genB2A.input_var\n",
    "\n",
    "# D_a(F(b)) & D_b(G(a))\n",
    "discA = Discriminator(genB2A, wasserstein=True, real_inp_var=realA)\n",
    "discB = Discriminator(genA2B, wasserstein=True, real_inp_var=realB)\n",
    "\n",
    "# F(G(a)) -> a_cyc & G(F(b)) -> b_cyc\n",
    "cycleA = get_output(genB2A.model[\"output\"], genA2B.output_var)\n",
    "cycleB = get_output(genA2B.model[\"output\"], genB2A.output_var)"
   ]
  },
  {
   "cell_type": "code",
   "execution_count": 5,
   "metadata": {
    "collapsed": true
   },
   "outputs": [],
   "source": [
    "# low learning rate for debugging purpose, use a higher one\n",
    "ADAM_PARAMS = {\"learning_rate\" : 1e-5, \"beta1\" : 0.5, \"beta2\" : 0.9}\n",
    "CYCLE_LAMBDA = 10"
   ]
  },
  {
   "cell_type": "code",
   "execution_count": 6,
   "metadata": {
    "collapsed": true
   },
   "outputs": [],
   "source": [
    "import theano\n",
    "import theano.tensor as T\n",
    "from lib.losses import wasserstein_gradient_penalty_loss\n",
    "from lasagne.updates import adam\n",
    "\n",
    "disc_a_loss = wasserstein_gradient_penalty_loss(realA, genB2A.output_var, discA.model[\"out\"])\n",
    "disc_b_loss = wasserstein_gradient_penalty_loss(realB, genA2B.output_var, discB.model[\"out\"])\n",
    "\n",
    "combined_disc_loss = disc_a_loss + disc_b_loss\n",
    "\n",
    "cycle_loss = (T.abs_(realA - cycleA) + T.abs_(realB - cycleB)).mean()\n",
    "\n",
    "gen_a_loss = -discA.fake_out.mean()\n",
    "gen_b_loss = -discB.fake_out.mean()\n",
    "\n",
    "combined_gen_loss = gen_a_loss + gen_b_loss + CYCLE_LAMBDA * cycle_loss\n",
    "\n",
    "disc_updates = adam(combined_disc_loss, discA.params + discB.params, **ADAM_PARAMS)\n",
    "gen_updates = adam(combined_gen_loss, genA2B.params + genB2A.params, **ADAM_PARAMS)\n",
    "\n",
    "train_disc = theano.function([realA, realB], combined_disc_loss, updates=disc_updates)\n",
    "train_gen = theano.function([realA, realB], combined_gen_loss, updates=gen_updates)"
   ]
  },
  {
   "cell_type": "code",
   "execution_count": 7,
   "metadata": {
    "collapsed": true
   },
   "outputs": [],
   "source": [
    "def sample_batch(size=16, x=As, y=Bs):\n",
    "    ixes = np.random.randint(0, len(As), size=size)\n",
    "    \n",
    "    # non-pair data, so we can apply the same indexes\n",
    "    return x[ixes], y[ixes]"
   ]
  },
  {
   "cell_type": "code",
   "execution_count": 28,
   "metadata": {},
   "outputs": [
    {
     "data": {
      "image/png": "[encoded data removed]",
      "text/plain": [
       "<matplotlib.figure.Figure at 0x7f12cf8d32d0>"
      ]
     },
     "metadata": {},
     "output_type": "display_data"
    },
    {
     "data": {
      "image/png": "[encoded data removed]",
      "text/plain": [
       "<matplotlib.figure.Figure at 0x7f12eaed0350>"
      ]
     },
     "metadata": {},
     "output_type": "display_data"
    },
    {
     "name": "stdout",
     "output_type": "stream",
     "text": [
      "1361\n",
      "1362\n",
      "1363\n",
      "1364\n"
     ]
    },
    {
     "ename": "KeyboardInterrupt",
     "evalue": "",
     "output_type": "error",
     "traceback": [
      "\u001b[0;31m---------------------------------------------------------------------------\u001b[0m",
      "\u001b[0;31mKeyboardInterrupt\u001b[0m                         Traceback (most recent call last)",
      "\u001b[0;32m<ipython-input-28-9036ba4f4bb8>\u001b[0m in \u001b[0;36m<module>\u001b[0;34m()\u001b[0m\n\u001b[1;32m     14\u001b[0m         \u001b[0mx\u001b[0m\u001b[0;34m,\u001b[0m \u001b[0my\u001b[0m \u001b[0;34m=\u001b[0m \u001b[0msample_batch\u001b[0m\u001b[0;34m(\u001b[0m\u001b[0;36m8\u001b[0m\u001b[0;34m)\u001b[0m\u001b[0;34m\u001b[0m\u001b[0m\n\u001b[1;32m     15\u001b[0m \u001b[0;34m\u001b[0m\u001b[0m\n\u001b[0;32m---> 16\u001b[0;31m         \u001b[0mtrain_disc\u001b[0m\u001b[0;34m(\u001b[0m\u001b[0mx\u001b[0m\u001b[0;34m,\u001b[0m \u001b[0my\u001b[0m\u001b[0;34m)\u001b[0m\u001b[0;34m\u001b[0m\u001b[0m\n\u001b[0m\u001b[1;32m     17\u001b[0m \u001b[0;34m\u001b[0m\u001b[0m\n\u001b[1;32m     18\u001b[0m     \u001b[0mx\u001b[0m\u001b[0;34m,\u001b[0m \u001b[0my\u001b[0m \u001b[0;34m=\u001b[0m \u001b[0msample_batch\u001b[0m\u001b[0;34m(\u001b[0m\u001b[0;36m8\u001b[0m\u001b[0;34m)\u001b[0m\u001b[0;34m\u001b[0m\u001b[0m\n",
      "\u001b[0;32m/anaconda2/lib/python2.7/site-packages/theano/compile/function_module.pyc\u001b[0m in \u001b[0;36m__call__\u001b[0;34m(self, *args, **kwargs)\u001b[0m\n\u001b[1;32m    901\u001b[0m         \u001b[0;32mtry\u001b[0m\u001b[0;34m:\u001b[0m\u001b[0;34m\u001b[0m\u001b[0m\n\u001b[1;32m    902\u001b[0m             \u001b[0moutputs\u001b[0m \u001b[0;34m=\u001b[0m\u001b[0;31m\\\u001b[0m\u001b[0;34m\u001b[0m\u001b[0m\n\u001b[0;32m--> 903\u001b[0;31m                 \u001b[0mself\u001b[0m\u001b[0;34m.\u001b[0m\u001b[0mfn\u001b[0m\u001b[0;34m(\u001b[0m\u001b[0;34m)\u001b[0m \u001b[0;32mif\u001b[0m \u001b[0moutput_subset\u001b[0m \u001b[0;32mis\u001b[0m \u001b[0mNone\u001b[0m \u001b[0;32melse\u001b[0m\u001b[0;31m\\\u001b[0m\u001b[0;34m\u001b[0m\u001b[0m\n\u001b[0m\u001b[1;32m    904\u001b[0m                 \u001b[0mself\u001b[0m\u001b[0;34m.\u001b[0m\u001b[0mfn\u001b[0m\u001b[0;34m(\u001b[0m\u001b[0moutput_subset\u001b[0m\u001b[0;34m=\u001b[0m\u001b[0moutput_subset\u001b[0m\u001b[0;34m)\u001b[0m\u001b[0;34m\u001b[0m\u001b[0m\n\u001b[1;32m    905\u001b[0m         \u001b[0;32mexcept\u001b[0m \u001b[0mException\u001b[0m\u001b[0;34m:\u001b[0m\u001b[0;34m\u001b[0m\u001b[0m\n",
      "\u001b[0;32m/anaconda2/lib/python2.7/site-packages/theano/gof/op.pyc\u001b[0m in \u001b[0;36mrval\u001b[0;34m(p, i, o, n)\u001b[0m\n\u001b[1;32m    889\u001b[0m         \u001b[0;32mif\u001b[0m \u001b[0mparams\u001b[0m \u001b[0;32mis\u001b[0m \u001b[0mgraph\u001b[0m\u001b[0;34m.\u001b[0m\u001b[0mNoParams\u001b[0m\u001b[0;34m:\u001b[0m\u001b[0;34m\u001b[0m\u001b[0m\n\u001b[1;32m    890\u001b[0m             \u001b[0;31m# default arguments are stored in the closure of `rval`\u001b[0m\u001b[0;34m\u001b[0m\u001b[0;34m\u001b[0m\u001b[0m\n\u001b[0;32m--> 891\u001b[0;31m             \u001b[0;32mdef\u001b[0m \u001b[0mrval\u001b[0m\u001b[0;34m(\u001b[0m\u001b[0mp\u001b[0m\u001b[0;34m=\u001b[0m\u001b[0mp\u001b[0m\u001b[0;34m,\u001b[0m \u001b[0mi\u001b[0m\u001b[0;34m=\u001b[0m\u001b[0mnode_input_storage\u001b[0m\u001b[0;34m,\u001b[0m \u001b[0mo\u001b[0m\u001b[0;34m=\u001b[0m\u001b[0mnode_output_storage\u001b[0m\u001b[0;34m,\u001b[0m \u001b[0mn\u001b[0m\u001b[0;34m=\u001b[0m\u001b[0mnode\u001b[0m\u001b[0;34m)\u001b[0m\u001b[0;34m:\u001b[0m\u001b[0;34m\u001b[0m\u001b[0m\n\u001b[0m\u001b[1;32m    892\u001b[0m                 \u001b[0mr\u001b[0m \u001b[0;34m=\u001b[0m \u001b[0mp\u001b[0m\u001b[0;34m(\u001b[0m\u001b[0mn\u001b[0m\u001b[0;34m,\u001b[0m \u001b[0;34m[\u001b[0m\u001b[0mx\u001b[0m\u001b[0;34m[\u001b[0m\u001b[0;36m0\u001b[0m\u001b[0;34m]\u001b[0m \u001b[0;32mfor\u001b[0m \u001b[0mx\u001b[0m \u001b[0;32min\u001b[0m \u001b[0mi\u001b[0m\u001b[0;34m]\u001b[0m\u001b[0;34m,\u001b[0m \u001b[0mo\u001b[0m\u001b[0;34m)\u001b[0m\u001b[0;34m\u001b[0m\u001b[0m\n\u001b[1;32m    893\u001b[0m                 \u001b[0;32mfor\u001b[0m \u001b[0mo\u001b[0m \u001b[0;32min\u001b[0m \u001b[0mnode\u001b[0m\u001b[0;34m.\u001b[0m\u001b[0moutputs\u001b[0m\u001b[0;34m:\u001b[0m\u001b[0;34m\u001b[0m\u001b[0m\n",
      "\u001b[0;31mKeyboardInterrupt\u001b[0m: "
     ]
    }
   ],
   "source": [
    "from IPython.display import clear_output\n",
    "\n",
    "n_epochs = 2000\n",
    "batch_size = 8\n",
    "\n",
    "display_epoch = 10\n",
    "\n",
    "n_critic = 4\n",
    "\n",
    "for ep in range(n_epochs):\n",
    "    print ep\n",
    "    \n",
    "    for _ in range(n_critic):\n",
    "        x, y = sample_batch(8)\n",
    "        \n",
    "        train_disc(x, y)\n",
    "        \n",
    "    x, y = sample_batch(8)\n",
    "    \n",
    "    train_gen(x, y)\n",
    "    \n",
    "    if ep % display_epoch == 0:\n",
    "        clear_output()\n",
    "        \n",
    "        image = genA2B.generate(x)\n",
    "        \n",
    "        plt.imshow(x[0, 0])\n",
    "        plt.show()\n",
    "        \n",
    "        plt.imshow(image[0, 0])\n",
    "        plt.colorbar()\n",
    "        plt.show()"
   ]
  },
  {
   "cell_type": "code",
   "execution_count": 32,
   "metadata": {},
   "outputs": [],
   "source": [
    "import pickle\n",
    "from lasagne.layers import get_all_param_values\n",
    "\n",
    "with open(\"../weights/letter-cycle-gan/a2b.pcl\", \"wb\") as f:\n",
    "    pickle.dump(get_all_param_values(genA2B.model[\"output\"]), f)\n",
    "    \n",
    "with open(\"../weights/letter-cycle-gan/a2b.pcl\", \"wb\") as f:\n",
    "    pickle.dump(get_all_param_values(genA2B.model[\"output\"]), f)\n",
    "    \n",
    "with open(\"../weights/letter-cycle-gan/disc_a.pcl\", \"wb\") as f:\n",
    "    pickle.dump(get_all_param_values(discA.model[\"out\"]), f)\n",
    "    \n",
    "with open(\"../weights/letter-cycle-gan/disc_b.pcl\", \"wb\") as f:\n",
    "    pickle.dump(get_all_param_values(discB.model[\"out\"]), f)    "
   ]
  }
 ],
 "metadata": {
  "kernelspec": {
   "display_name": "Python 2",
   "language": "python",
   "name": "python2"
  },
  "language_info": {
   "codemirror_mode": {
    "name": "ipython",
    "version": 2
   },
   "file_extension": ".py",
   "mimetype": "text/x-python",
   "name": "python",
   "nbconvert_exporter": "python",
   "pygments_lexer": "ipython2",
   "version": "2.7.13"
  }
 },
 "nbformat": 4,
 "nbformat_minor": 2
}
