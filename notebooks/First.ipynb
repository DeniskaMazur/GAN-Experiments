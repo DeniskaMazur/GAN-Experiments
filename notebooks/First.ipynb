{
 "cells": [
  {
   "cell_type": "code",
   "execution_count": null,
   "metadata": {},
   "outputs": [],
   "source": [
    "%env THEANO_FLAGS=device=cuda0,floatX=float32\n",
    "\n",
    "from layers import *\n",
    "from lasagne.layers import *\n",
    "import lasagne\n",
    "\n",
    "from lasagne.nonlinearities import LeakyRectify\n",
    "\n",
    "from collections import OrderedDict\n",
    "\n",
    "import theano\n",
    "import theano.tensor as T\n",
    "\n",
    "from nets import ResGenerator, Discriminator\n",
    "\n",
    "from theano.tensor.shared_randomstreams import RandomStreams\n",
    "srng = RandomStreams(seed=234)"
   ]
  },
  {
   "cell_type": "code",
   "execution_count": null,
   "metadata": {
    "collapsed": true
   },
   "outputs": [],
   "source": [
    "PICSIZE = (100, 100)"
   ]
  },
  {
   "cell_type": "markdown",
   "metadata": {},
   "source": [
    "## Define da Nets!"
   ]
  },
  {
   "cell_type": "code",
   "execution_count": null,
   "metadata": {
    "collapsed": true
   },
   "outputs": [],
   "source": [
    "# a & b\n",
    "realA = T.tensor4(\"Real A input\")\n",
    "realB = T.tensor4(\"Real B input\")\n",
    "\n",
    "# G(a) -> b_hat & F(b) -> a_hat\n",
    "genA2B = ResGenerator(filter_size=PICSIZE, input_var=realA)\n",
    "genB2A = ResGenerator(filter_size=PICSIZE, input_var=realB)\n",
    "\n",
    "# D_a(F(b)) & D_b(G(a))\n",
    "discA = Discriminator(genB2A, wasserstein=True, real_inp_var=realA)\n",
    "discB = Discriminator(genA2B, wasserstein=True, real_inp_var=realB)\n",
    "\n",
    "# F(G(a)) -> a_cyc & G(F(b)) -> b_cyc\n",
    "cycleA = genB2A.get_output(genA2B.output_var)\n",
    "cycleB = genA2B.get_output(genB2A.output_var)"
   ]
  },
  {
   "cell_type": "markdown",
   "metadata": {},
   "source": [
    "## Losses"
   ]
  },
  {
   "cell_type": "code",
   "execution_count": null,
   "metadata": {
    "collapsed": true
   },
   "outputs": [],
   "source": [
    "# TODO: clean this mess up \n",
    "\n",
    "class WGANLosses:\n",
    "    def __init__(self, gen, disc, lambd=10):\n",
    "        self.epsilon = srng.uniform([1]) # low=0, high=1\n",
    "        \n",
    "        x_hat = self.epsilon * disc.real_inp_var + (1 - self.epsilon) * gen.output_var\n",
    "        \n",
    "        x_hat_score = get_output(gen.layers[\"out\"], x_hat).mean()\n",
    "        x_hat_grad = T.grad(x_hat_score, x_hat)[0]\n",
    "        \n",
    "        wgan_loss = (disc.real_out.mean() - disc.fake_out.mean())\n",
    "        gradient_penalty = ((T.sqrt(T.sum(x_hat_grad**2)) - 0.01)**2).mean()\n",
    "\n",
    "        self.disc_loss = -wgan_loss + lambd * gradient_penalty\n",
    "        self.gen_loss = -disc.fake_out.mean()"
   ]
  },
  {
   "cell_type": "code",
   "execution_count": null,
   "metadata": {
    "collapsed": true
   },
   "outputs": [],
   "source": [
    "# Hyperparams\n",
    "ADAM_PARAMS = {\"learning_rate\" : 1e-4, \"beta1\" : 0.5, \"beta2\" : 0.9}\n",
    "LAMBD = 10"
   ]
  },
  {
   "cell_type": "code",
   "execution_count": null,
   "metadata": {
    "collapsed": true
   },
   "outputs": [],
   "source": [
    "# |a - F(G(a))| + |b - G(F(b))|\n",
    "cycle_loss = (T.abs_(realA - cycleA) + T.abs_(realB - cycleB)).mean()\n",
    "\n",
    "# mess\n",
    "b_loss = WGANLosses(genA2B, discB)\n",
    "a_loss = WGANLosses(genB2A, discA)\n",
    "\n",
    "# wasserstein-gp losses + cycle loss\n",
    "gen_comb_loss = a_loss.gen_loss + b_loss.gen_loss + cycle_loss * LAMBD\n",
    "disc_comb_loss = a_loss.disc_loss + b_loss.disc_loss\n",
    "\n",
    "# updates with combined weights \n",
    "gen_updates = lasagne.updates.adam(gen_comb_loss, genA2B.params + genB2A.params, **ADAM_PARAMS)\n",
    "disc_updates = lasagne.updates.adam(disc_comb_loss, discA.params + discB.params, **ADAM_PARAMS)\n",
    "\n",
    "trainGen = theano.function([realA, realB], gen_comb_loss, updates=gen_updates, allow_input_downcast=True)\n",
    "trainDisc = theano.function([realA, realB], disc_comb_loss, updates=disc_updates, allow_input_downcast=True)"
   ]
  },
  {
   "cell_type": "markdown",
   "metadata": {
    "collapsed": true
   },
   "source": [
    "## Dataset"
   ]
  },
  {
   "cell_type": "code",
   "execution_count": null,
   "metadata": {
    "collapsed": true
   },
   "outputs": [],
   "source": [
    "import os\n",
    "from preproc import pics2array\n",
    "import numpy as np\n",
    "\n",
    "path = \"datasets/base/\"\n",
    "\n",
    "x = [pic for pic in os.listdir(path) if pic.split(\".\")[-1] == \"jpg\"]\n",
    "y = [pic for pic in os.listdir(path) if pic.split(\".\")[-1] == \"png\"]\n",
    "\n",
    "x = pics2array(path, x, PICSIZE) / 255.\n",
    "y = pics2array(path, y, PICSIZE) / 255.\n",
    "\n",
    "np.random.shuffle(y)"
   ]
  },
  {
   "cell_type": "code",
   "execution_count": null,
   "metadata": {},
   "outputs": [],
   "source": [
    "import matplotlib.pyplot as plt\n",
    "%matplotlib inline\n",
    "\n",
    "plt.imshow(x[0].transpose(1, 2, 0))\n",
    "plt.show()\n",
    "\n",
    "plt.imshow(y[0].transpose(1, 2, 0))"
   ]
  },
  {
   "cell_type": "code",
   "execution_count": null,
   "metadata": {
    "collapsed": true
   },
   "outputs": [],
   "source": [
    "def sample_batch(x, y, size=32):\n",
    "    assert len(x) == len(y)\n",
    "    \n",
    "    ixes = np.random.randint(0, len(x), size=size)\n",
    "    \n",
    "    return x[ixes], y[ixes]"
   ]
  },
  {
   "cell_type": "code",
   "execution_count": null,
   "metadata": {},
   "outputs": [],
   "source": [
    "from IPython.display import clear_output\n",
    "\n",
    "n_epochs = 10000\n",
    "batch_size = 32\n",
    "display_epoch = 50\n",
    "n_critic = 5\n",
    "\n",
    "\n",
    "for ep in range(n_epochs):\n",
    "    for _ in range(n_critic):\n",
    "        _x, _y = sample_batch(x, y, batch_size)\n",
    "        trainDisc(_x, _y)\n",
    "    \n",
    "    _x, _y = sample_batch(x, y, batch_size)\n",
    "    trainGen(_x, _y)\n",
    "    \n",
    "    print(ep)\n",
    "        \n",
    "    if ep % display_epoch == 0:\n",
    "        clear_output()\n",
    "        x_test, y_test = sample_batch(x, y, 1)\n",
    "\n",
    "        plt.imshow(x_test[0].transpose(1, 2, 0))\n",
    "        plt.show()\n",
    "        plt.imshow(genA2B.generate_showable(x_test)[0])\n",
    "        plt.show()"
   ]
  },
  {
   "cell_type": "code",
   "execution_count": null,
   "metadata": {},
   "outputs": [],
   "source": [
    "pic = genA2B.generate(np.random.normal(size=[1, 3, 100, 100]))\n",
    "\n",
    "print pic.mean()\n",
    "\n",
    "plt.imshow(pic[0].transpose(1, 2, 0))"
   ]
  },
  {
   "cell_type": "code",
   "execution_count": null,
   "metadata": {
    "collapsed": true
   },
   "outputs": [],
   "source": []
  }
 ],
 "metadata": {
  "kernelspec": {
   "display_name": "Python 2",
   "language": "python",
   "name": "python2"
  },
  "language_info": {
   "codemirror_mode": {
    "name": "ipython",
    "version": 2
   },
   "file_extension": ".py",
   "mimetype": "text/x-python",
   "name": "python",
   "nbconvert_exporter": "python",
   "pygments_lexer": "ipython2",
   "version": "2.7.13"
  }
 },
 "nbformat": 4,
 "nbformat_minor": 2
}
