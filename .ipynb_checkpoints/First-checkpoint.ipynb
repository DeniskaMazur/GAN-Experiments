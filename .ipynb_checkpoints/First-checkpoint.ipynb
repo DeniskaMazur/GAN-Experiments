{
 "cells": [
  {
   "cell_type": "code",
   "execution_count": 1,
   "metadata": {
    "collapsed": true
   },
   "outputs": [],
   "source": [
    "from layers import *\n",
    "from lasagne.layers import *\n",
    "import lasagne\n",
    "\n",
    "from lasagne.nonlinearities import LeakyRectify\n",
    "\n",
    "from collections import OrderedDict\n",
    "\n",
    "import theano\n",
    "import theano.tensor as T\n",
    "\n",
    "from nets import ResGenerator, Discriminator\n",
    "\n",
    "from theano.tensor.shared_randomstreams import RandomStreams\n",
    "srng = RandomStreams(seed=234)"
   ]
  },
  {
   "cell_type": "markdown",
   "metadata": {},
   "source": [
    "## Define da Nets!"
   ]
  },
  {
   "cell_type": "code",
   "execution_count": 2,
   "metadata": {
    "collapsed": true
   },
   "outputs": [],
   "source": [
    "genA = ResGenerator(filter_size=(64, 64))\n",
    "genB = ResGenerator(filter_size=(64, 64))\n",
    "\n",
    "discA = Discriminator(genA, wasserstein=True)\n",
    "discB = Discriminator(genB, wasserstein=True)"
   ]
  },
  {
   "cell_type": "markdown",
   "metadata": {},
   "source": [
    "## Losses"
   ]
  },
  {
   "cell_type": "code",
   "execution_count": 4,
   "metadata": {
    "collapsed": true
   },
   "outputs": [],
   "source": [
    "class WGANLosses:\n",
    "    def __init__(self, gen, disc, lambd=10):\n",
    "        self.epsilon = srng.uniform([1]) # low=0, high=1\n",
    "        \n",
    "        x_hat = self.epsilon * disc.real_inp_var + (1 - self.epsilon) * gen.output_var\n",
    "        \n",
    "        x_hat_score = get_output(gen.layers[\"out\"], x_hat).mean()\n",
    "        x_hat_grad = T.grad(x_hat_score, x_hat)[0]\n",
    "        \n",
    "        wgan_loss = (disc.real_out.mean() - disc.fake_out.mean())\n",
    "        gradient_penalty = ((T.sqrt(T.sum(x_hat_grad**2)) - 0.01)**2).mean()\n",
    "\n",
    "        self.disc_loss = -wgan_loss + lambd * gradient_penalty\n",
    "        self.gen_loss = -disc.fake_out.mean()"
   ]
  },
  {
   "cell_type": "code",
   "execution_count": 3,
   "metadata": {
    "collapsed": true
   },
   "outputs": [],
   "source": [
    "# Hyperparams\n",
    "adam = {\"learning_rate\" : 1e-4, \"beta1\" : 0.5, \"beta2\" : 0.9}\n",
    "lambd = 10"
   ]
  },
  {
   "cell_type": "code",
   "execution_count": null,
   "metadata": {},
   "outputs": [],
   "source": [
    "a_loss = WGANLosses(genA, discA)\n",
    "b_loss = WGANLosses(genB, discB)\n",
    "\n",
    "updates = "
   ]
  }
 ],
 "metadata": {
  "kernelspec": {
   "display_name": "Python 2",
   "language": "python",
   "name": "python2"
  },
  "language_info": {
   "codemirror_mode": {
    "name": "ipython",
    "version": 2
   },
   "file_extension": ".py",
   "mimetype": "text/x-python",
   "name": "python",
   "nbconvert_exporter": "python",
   "pygments_lexer": "ipython2",
   "version": "2.7.14"
  }
 },
 "nbformat": 4,
 "nbformat_minor": 2
}
